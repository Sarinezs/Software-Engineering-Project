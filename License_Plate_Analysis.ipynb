{
  "nbformat": 4,
  "nbformat_minor": 0,
  "metadata": {
    "colab": {
      "provenance": [],
      "gpuType": "T4",
      "include_colab_link": true
    },
    "kernelspec": {
      "name": "python3",
      "display_name": "Python 3"
    },
    "language_info": {
      "name": "python"
    },
    "accelerator": "GPU"
  },
  "cells": [
    {
      "cell_type": "markdown",
      "metadata": {
        "id": "view-in-github",
        "colab_type": "text"
      },
      "source": [
        "<a href=\"https://colab.research.google.com/github/Sarinezs/Software-Engineering-Project/blob/main/License_Plate_Analysis.ipynb\" target=\"_parent\"><img src=\"https://colab.research.google.com/assets/colab-badge.svg\" alt=\"Open In Colab\"/></a>"
      ]
    },
    {
      "cell_type": "code",
      "execution_count": null,
      "metadata": {
        "id": "q9TDq560hykY",
        "collapsed": true
      },
      "outputs": [],
      "source": [
        "!pip install ultralytics easyocr roboflow\n",
        "!pip install -q streamlit\n",
        "!npm install -g localtunnel\n",
        "!npm audit fix --force\n",
        "from google.colab import drive\n",
        "drive.mount('/content/drive')\n",
        "\n",
        "import easyocr\n",
        "import cv2\n",
        "import matplotlib.pyplot as plt\n",
        "from roboflow import Roboflow\n",
        "from PIL import Image, ImageFont, ImageDraw\n",
        "import numpy as np\n",
        "from ultralytics import YOLO\n",
        "\n",
        "\n",
        "rf = Roboflow(api_key=\"Jru6dEwbPFxvN1sf5wVF\")\n",
        "project = rf.workspace(\"roboflow-universe-projects\").project(\"license-plate-recognition-rxg4e\")\n",
        "version = project.version(4)\n",
        "dataset = version.download(\"yolov8\")"
      ]
    },
    {
      "cell_type": "code",
      "source": [
        "\n",
        "model = YOLO('yolov8n.pt')\n",
        "\n",
        "path = '/content/License-Plate-Recognition-4/data.yaml'\n",
        "results = model.train(data=path,\n",
        "                      epochs=50,\n",
        "                      imgsz=640,\n",
        "                      batch=32,\n",
        "                      patience=3,\n",
        "                      optimizer='Adam',\n",
        "                      lr0=0.001,\n",
        "                      # project='/content/drive/MyDrive/ML/Machine_Learning_Project',\n",
        "                      # name='trained_model'\n",
        "                      )\n",
        "\n"
      ],
      "metadata": {
        "id": "UDriW-p1CqqQ",
        "collapsed": true
      },
      "execution_count": null,
      "outputs": []
    },
    {
      "cell_type": "code",
      "source": [
        "\n",
        "model = YOLO('yolov8n.pt')\n",
        "path = '/content/License-Plate-Recognition-4/data.yaml'\n",
        "\n",
        "model.tune(data=path,\n",
        "           epochs=3,\n",
        "           patience=5,\n",
        "           optimizer='Adam',\n",
        "           lr0=0.0001,\n",
        "           batch=32,\n",
        "           iterations=3,\n",
        "           project='/content/drive/MyDrive/ML/Machine_Learning_Project',\n",
        "           name='tuned_param')\n",
        "\n",
        "\n"
      ],
      "metadata": {
        "id": "Cn_B1cuuvHJd",
        "collapsed": true
      },
      "execution_count": null,
      "outputs": []
    },
    {
      "cell_type": "code",
      "source": [
        "load_model = YOLO('/content/drive/MyDrive/ML/Machine_Learning_Project/trained_model/weights/best.pt')\n",
        "\n"
      ],
      "metadata": {
        "id": "YYNfrig3eu7R",
        "collapsed": true
      },
      "execution_count": null,
      "outputs": []
    },
    {
      "cell_type": "code",
      "source": [
        "img_path='/content/License-Plate-Recognition-4/test/images/CarLongPlateGen2577_jpg.rf.e24e0e4356f004720e8a339b75d66b94.jpg'\n",
        "\n",
        "result = load_model.predict(source=img_path,\n",
        "                            # save=True,\n",
        "                            imgsz=640,\n",
        "                            conf=0.5,\n",
        "                            show_labels=True,\n",
        "                            show_conf=True,\n",
        "                            show=True,\n",
        "                            # save_crop=True,\n",
        "                            )\n",
        "\n",
        "reader = easyocr.Reader(['th','en']) # English reader\n",
        "licenseplate_coor = result[0].boxes.xyxy.cpu().numpy()\n",
        "\n",
        "if len(licenseplate_coor) == 0:\n",
        "  print('No license plate detected')\n",
        "else:\n",
        "  img=cv2.imread(img_path)\n",
        "\n",
        "  for i in range (len(licenseplate_coor)):\n",
        "    lp = licenseplate_coor[i]\n",
        "\n",
        "    #ตำแหน่งทะเบียน\n",
        "    start_x = int(lp[0])\n",
        "    start_y = int(lp[1])\n",
        "    end_x = int(lp[2])\n",
        "    end_y = int(lp[3])\n",
        "\n",
        "    license_plate = img[start_y:end_y, start_x:end_x, :].copy()\n",
        "\n",
        "    cv2.rectangle(img, (start_x,start_y), (end_x,end_y), (0, 255, 0),2)\n",
        "\n",
        "    image_pil = Image.fromarray(cv2.cvtColor(img, cv2.COLOR_RGB2BGR))\n",
        "\n",
        "    font_path = '/content/drive/MyDrive/ML/Machine_Learning_Project/Font/Sarabun-SemiBoldItalic.ttf'\n",
        "    font = ImageFont.truetype(font_path, 40)\n",
        "\n",
        "    draw = ImageDraw.Draw(image_pil)\n",
        "\n",
        "    text_array = ''\n",
        "    lp_text = reader.readtext(license_plate)\n",
        "    for i in lp_text:\n",
        "      bbox, text, score = i\n",
        "      text_array = text_array + ' ' + text\n",
        "      print(text,score)\n",
        "\n",
        "    draw.text((start_x, start_y - 40), text_array, font=font, fill=(0, 0, 255))\n",
        "    # plt.imshow(cv2.cvtColor(img, cv2.COLOR_BGR2RGB))\n",
        "    plt.imshow(cv2.cvtColor(np.array(image_pil), cv2.COLOR_BGR2RGB))"
      ],
      "metadata": {
        "id": "YvcdxYQqram9"
      },
      "execution_count": null,
      "outputs": []
    },
    {
      "cell_type": "code",
      "source": [
        "path = '/content/License-Plate-Recognition-4/data.yaml'\n",
        "metrics = load_model.val(data=path, imgsz=640, project='/content/drive/MyDrive/ML/Machine_Learning_Project', name='mAP')"
      ],
      "metadata": {
        "collapsed": true,
        "id": "cjANwBRk1wWj"
      },
      "execution_count": null,
      "outputs": []
    },
    {
      "cell_type": "code",
      "source": [
        "print(\"Mean Average Precision (mAP) IoU(0.50-0.95) = \",round(metrics.box.map,2))\n",
        "print(\"Mean Average Precision (mAP) IoU(0.50)      = \",round(metrics.box.map50,2))\n",
        "print(\"Mean Average Precision (mAP)IoU(0.75)       = \",round(metrics.box.map75,2))"
      ],
      "metadata": {
        "collapsed": true,
        "id": "W5Ze_Heq3Is7"
      },
      "execution_count": null,
      "outputs": []
    },
    {
      "cell_type": "code",
      "source": [
        "%%writefile app.py\n",
        "\n",
        "import easyocr\n",
        "import cv2\n",
        "import matplotlib.pyplot as plt\n",
        "import numpy as np\n",
        "from roboflow import Roboflow\n",
        "from PIL import Image, ImageFont, ImageDraw\n",
        "from ultralytics import YOLO\n",
        "import streamlit as st\n",
        "\n",
        "st.set_page_config(page_title=\"License Plate Analysis App\")\n",
        "\n",
        "st.title(\"License Plate Analysis App\")\n",
        "\n",
        "Conf_threshold = st.sidebar.slider('confidence threshold',\n",
        "                                   min_value=0.1,\n",
        "                                   max_value=1.0,\n",
        "                                   value=0.5,\n",
        "                                   step=0.01)\n",
        "\n",
        "load_model = YOLO('/content/drive/MyDrive/ML/Machine_Learning_Project/trained_model/weights/best.pt')\n",
        "\n",
        "reader = easyocr.Reader(['th','en'])\n",
        "\n",
        "uploaded_file = st.file_uploader(\"Choose an image...\", type=\"jpg\")\n",
        "\n",
        "\n",
        "if uploaded_file is not None:\n",
        "\n",
        "  file_bytes = np.frombuffer(uploaded_file.read(), np.uint8)\n",
        "\n",
        "  img = cv2.imdecode(file_bytes, cv2.IMREAD_COLOR)\n",
        "\n",
        "  result = load_model.predict(source=img,\n",
        "                              imgsz=640,\n",
        "                              conf=Conf_threshold,\n",
        "                              )\n",
        "\n",
        "  licenseplate_coor = result[0].boxes.xyxy.cpu().numpy()\n",
        "\n",
        "  if len(licenseplate_coor) == 0:\n",
        "    st.subheader(\"No license plate detected\")\n",
        "  else:\n",
        "    text_array = []\n",
        "\n",
        "    for i in range (len(licenseplate_coor)):\n",
        "      lp = licenseplate_coor[i]\n",
        "\n",
        "      #ตำแหน่งทะเบียน\n",
        "      start_x = int(lp[0])\n",
        "      start_y = int(lp[1])\n",
        "      end_x = int(lp[2])\n",
        "      end_y = int(lp[3])\n",
        "\n",
        "      license_plate = img[start_y:end_y, start_x:end_x, :].copy()\n",
        "\n",
        "      cv2.rectangle(img, (start_x,start_y), (end_x,end_y), (0, 0, 255),2)\n",
        "\n",
        "      texts = ''\n",
        "      lp_text = reader.readtext(license_plate)\n",
        "      for i in lp_text:\n",
        "        bbox, text, score = i\n",
        "        texts = texts + ' ' + text\n",
        "\n",
        "      text_array.append(texts)\n",
        "\n",
        "    plot_img = result[0].plot()\n",
        "\n",
        "    plot_img_rgb = cv2.cvtColor(plot_img, cv2.COLOR_BGR2RGB)\n",
        "\n",
        "    plot_img_pil = Image.fromarray(plot_img_rgb)\n",
        "\n",
        "    st.image(plot_img_pil, caption=\"YOLO Prediction\", use_container_width=True)\n",
        "    for text in text_array:\n",
        "      st.subheader(text)\n"
      ],
      "metadata": {
        "collapsed": true,
        "id": "nF5f4cCq4l6u"
      },
      "execution_count": null,
      "outputs": []
    },
    {
      "cell_type": "code",
      "source": [
        "!streamlit run /content/app.py & npx localtunnel --port 8501"
      ],
      "metadata": {
        "collapsed": true,
        "id": "ICkWtFQ2C7Zz"
      },
      "execution_count": null,
      "outputs": []
    }
  ]
}